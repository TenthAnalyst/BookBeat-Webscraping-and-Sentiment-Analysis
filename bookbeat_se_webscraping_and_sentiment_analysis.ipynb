{
 "cells": [
  {
   "attachments": {},
   "cell_type": "markdown",
   "metadata": {},
   "source": [
    "# BookBeat Booklist Webscraping and Sentiment Analysis\n",
    "\n",
    "Scrapes the book description webpages on the [BookBeat Sweden website](www.BookBeat.se), extracting the `title`, `rating`, `description`, and `reviews` of each book, then conducts a sentimental analysis rating may be helpful to giving the user more relevant book recommendations, leading to higher engagement."
   ]
  },
  {
   "attachments": {},
   "cell_type": "markdown",
   "metadata": {},
   "source": [
    "## Method\n",
    "1. Goes to the [BookBeat Sweden website](www.BookBeat.se) \n",
    "2. Goes to a specified booklist category page—such as [Fantasy](https://www.bookbeat.se/kategori/science-fiction-46024)—and uses `BeautifulSoup` and `Selenium` to scrape all of the urls of the individual books—such as [Harry Potter](https://www.bookbeat.se/bok/harry-potter-och-fenixorden-86333)—saving them to a `csv` file.\n",
    "3. Then uses the `booklinks.csv` file to automatically click on every individual link and extract the `title`, `rating`, `description`, and `reviews`, and saves them to a pandas dataframe.\n",
    "4. Then conducts a `sentment analysis` of the reviews, using the `nltk` library, to transform each review into a quantifiable metric. For example:\n",
    "    - \"I love this book!\" would have a 1.0 rating, \n",
    "    - \"It sucks\" would have a -1.0 rating, and\n",
    "    - \"I love the author, but this book wasn't her best.\" would have a -0.4501 rating."
   ]
  },
  {
   "attachments": {},
   "cell_type": "markdown",
   "metadata": {},
   "source": [
    "## Limitations\n",
    "- Most of the book reviews are in Swedish. The `nltk` library for sentiment analysis has limited support for Swedish, therefore, it's necessary to translate the Swedish reviews into English, leading to lost-in-translation problems as subtle nuance is lost, meaning the score won't be fully accurate.\n",
    "- The automatic translation APIs cost money, so as a workaround, the Swedish reviews need to be manually copied and pasted, then sent to Google Sheets, and then translated with the GOOGLETRANSLATE() function, then copied back to the Pandas dataframe. Instructions provided.\n",
    "- The books on the BookBeats website don't have many reviews (often < 10), meaning the average sentiment score of the reviews might not accurately reflext the mean of the population."
   ]
  },
  {
   "attachments": {},
   "cell_type": "markdown",
   "metadata": {},
   "source": [
    "## Libraries"
   ]
  },
  {
   "cell_type": "code",
   "execution_count": 1,
   "metadata": {},
   "outputs": [
    {
     "name": "stderr",
     "output_type": "stream",
     "text": [
      "[nltk_data] Downloading package vader_lexicon to\n",
      "[nltk_data]     C:\\Users\\james\\AppData\\Roaming\\nltk_data...\n",
      "[nltk_data]   Package vader_lexicon is already up-to-date!\n"
     ]
    },
    {
     "data": {
      "text/plain": [
       "True"
      ]
     },
     "execution_count": 1,
     "metadata": {},
     "output_type": "execute_result"
    }
   ],
   "source": [
    "# Making HTML requests.\n",
    "import requests\n",
    "\n",
    "# Beautiful Soup Webscraping\n",
    "from bs4 import BeautifulSoup\n",
    "\n",
    "# Selenium Webscraping\n",
    "from selenium import webdriver\n",
    "from selenium.webdriver.common.by import By\n",
    "from selenium.common.exceptions import NoSuchElementException\n",
    "import time\n",
    "\n",
    "# Data Analysis\n",
    "import pandas as pd\n",
    "import numpy as np\n",
    "\n",
    "# Sentiment Analyis\n",
    "import nltk\n",
    "from nltk.sentiment import SentimentIntensityAnalyzer\n",
    "nltk.download('vader_lexicon')"
   ]
  },
  {
   "attachments": {},
   "cell_type": "markdown",
   "metadata": {},
   "source": [
    "# Phase I: Webscraping"
   ]
  },
  {
   "attachments": {},
   "cell_type": "markdown",
   "metadata": {},
   "source": [
    "## Configuration Cell"
   ]
  },
  {
   "cell_type": "code",
   "execution_count": 5,
   "metadata": {},
   "outputs": [],
   "source": [
    "# The root url of the BookBeat website.\n",
    "root_url = \"https://www.bookbeat.se\"\n",
    "\n",
    "# The booklist to scrape.\n",
    "webpage_to_scrape = \"https://www.bookbeat.se/kategori/fantasy-46020\"\n",
    "\n",
    "# Where to save csv file with links of all books in booklist.\n",
    "booklinks_csv_file = \"booklinks.csv\""
   ]
  },
  {
   "attachments": {},
   "cell_type": "markdown",
   "metadata": {},
   "source": [
    "##  Collecting Book Links\n"
   ]
  },
  {
   "attachments": {},
   "cell_type": "markdown",
   "metadata": {},
   "source": [
    "## `get_booklinks_from_webpage()`"
   ]
  },
  {
   "cell_type": "code",
   "execution_count": 6,
   "metadata": {},
   "outputs": [],
   "source": [
    "def get_booklinks_from_webpage(webpage_to_scrape, output_filename, see_more=0):\n",
    "    \"\"\"\n",
    "    Uses Selenium to\n",
    "    1. go to thewebpage_to_scrape,\n",
    "    2. click on 'Accept All Cookies'\n",
    "    3. click on 'Visa Mer' (see more) a specified number of times\n",
    "    Then uses Beautiful soup to\n",
    "    - extract all book links on the page, then\n",
    "    - store them onto a CSV file\n",
    "\n",
    "    Parameters:\n",
    "    webpage_to_scrape(str): The website to scrape.\n",
    "    output_filename(str): The name of the CSV file where links will be stored.\n",
    "    see_more(int): Number of times see more button will be clicked.\n",
    "    \"\"\"\n",
    "    \n",
    "    # Create Web Driver\n",
    "    chrome_driver_path = r\"C:\\Program Files (x86)\\chromedriver.exe\"\n",
    "    driver = webdriver.Chrome(executable_path=chrome_driver_path) # for PC\n",
    "\n",
    "    # Open Webpage\n",
    "    driver.get(url=webpage_to_scrape) \n",
    "\n",
    "    # Click on \"Accept All Cookies Buttong\"\n",
    "    time.sleep(3)\n",
    "    cookies_button = driver.find_element(By.XPATH, value='//*[@id=\"__next\"]/div[1]/div[1]/div/div/button[1]')\n",
    "    cookies_button.click()\n",
    "\n",
    "    # Click on \"See More Button\"\n",
    "    for click_see_more_button in range(see_more + 1):\n",
    "        time.sleep(1)\n",
    "        see_more_button = driver.find_element(By.XPATH, value='//*[@id=\"__next\"]/div[1]/div/main/div[2]/div[2]/div/div/div[4]/button')\n",
    "        see_more_button.click()\n",
    "\n",
    "    # Get all HTML on site and store it in soup.\n",
    "    soup = BeautifulSoup(driver.page_source, \"html.parser\")\n",
    "\n",
    "    # Close the driver.\n",
    "    driver.quit()\n",
    "\n",
    "    # Convert soup into book links.\n",
    "    book_links = [book.get('href') \n",
    "                for book in soup.find_all('a') \n",
    "                if book.get('href').startswith('/bok/')]\n",
    "\n",
    "    # Store book_links in a CSV\n",
    "    pd.DataFrame(book_links).to_csv(output_filename, \n",
    "                                    index=False, \n",
    "                                    header=False)"
   ]
  },
  {
   "attachments": {},
   "cell_type": "markdown",
   "metadata": {},
   "source": [
    "## Run `get_booklinks_from_webpage()` function.\n",
    "- `see_more=1` will collect 150 book links.\n",
    "\n",
    "CSV File in this format:\n",
    "- /bok/harry-potter-och-fenixorden-86333\n",
    "- /bok/harry-potter-and-the-order-of-the-phoenix-38063\n",
    "- /bok/harry-potter-och-den-flammande-bagaren-86331"
   ]
  },
  {
   "cell_type": "code",
   "execution_count": 7,
   "metadata": {},
   "outputs": [
    {
     "name": "stderr",
     "output_type": "stream",
     "text": [
      "C:\\Users\\james\\AppData\\Local\\Temp\\ipykernel_9728\\3043923931.py:19: DeprecationWarning: executable_path has been deprecated, please pass in a Service object\n",
      "  driver = webdriver.Chrome(executable_path=chrome_driver_path) # for PC\n"
     ]
    }
   ],
   "source": [
    "get_booklinks_from_webpage(webpage_to_scrape, booklinks_csv_file, see_more=1)"
   ]
  },
  {
   "attachments": {},
   "cell_type": "markdown",
   "metadata": {},
   "source": [
    "### Creating a `book_links` list.\n",
    "Converting links on `booklinks.csv` file into a list which can be used for further operations."
   ]
  },
  {
   "cell_type": "code",
   "execution_count": 8,
   "metadata": {},
   "outputs": [
    {
     "name": "stdout",
     "output_type": "stream",
     "text": [
      "['https://www.bookbeat.se/bok/harry-potter-och-fenixorden-86333', 'https://www.bookbeat.se/bok/harry-potter-and-the-order-of-the-phoenix-38063', 'https://www.bookbeat.se/bok/harry-potter-och-den-flammande-bagaren-86331', 'https://www.bookbeat.se/bok/harry-potter-och-dodsrelikerna-86332', 'https://www.bookbeat.se/bok/harry-potter-and-the-deathly-hallows-38065', 'https://www.bookbeat.se/bok/harry-potter-and-the-goblet-of-fire-38062', 'https://www.bookbeat.se/bok/harry-potter-och-halvblodsprinsen-86330', 'https://www.bookbeat.se/bok/harry-potter-and-the-half-blood-prince-38064', 'https://www.bookbeat.se/bok/harry-potter-och-de-vises-sten-86287', 'https://www.bookbeat.se/bok/harry-potter-och-fangen-fran-azkaban-86329', 'https://www.bookbeat.se/bok/harry-potter-och-hemligheternas-kammare-86328', 'https://www.bookbeat.se/bok/harry-potter-and-the-prisoner-of-azkaban-38061', 'https://www.bookbeat.se/bok/en-krona-av-gyllene-ben-928417', \"https://www.bookbeat.se/bok/harry-potter-and-the-philosopher's-stone-38059\", 'https://www.bookbeat.se/bok/harry-potter-and-the-chamber-of-secrets-38060', 'https://www.bookbeat.se/bok/en-saga-725029', 'https://www.bookbeat.se/bok/ringens-brodraskap-16810', 'https://www.bookbeat.se/bok/ur-blod-och-aska-535286', 'https://www.bookbeat.se/bok/ett-kungadome-av-kott-och-eld-636980', 'https://www.bookbeat.se/bok/the-fellowship-of-the-ring-568604', 'https://www.bookbeat.se/bok/game-of-thrones-kampen-om-jarntronen-541', 'https://www.bookbeat.se/bok/arvtagaren-11936', 'https://www.bookbeat.se/bok/twilight-om-jag-kunde-dromma-15090', 'https://www.bookbeat.se/bok/vanligheten-288557', 'https://www.bookbeat.se/bok/game-of-thrones-kungarnas-krig-552', 'https://www.bookbeat.se/bok/twilight-4-sa-lange-vi-bada-andas-15096', 'https://www.bookbeat.se/bok/brisingr-11935', 'https://www.bookbeat.se/bok/det-70170', 'https://www.bookbeat.se/bok/institutet-136106', 'https://www.bookbeat.se/bok/glastronen-208553', 'https://www.bookbeat.se/bok/twilight-2-nar-jag-hor-din-rost-15089', 'https://www.bookbeat.se/bok/eragon-11925', 'https://www.bookbeat.se/bok/twilight-3-ljudet-av-ditt-hjarta-15094', 'https://www.bookbeat.se/bok/den-aldste-11609', 'https://www.bookbeat.se/bok/game-of-thrones-svardets-makt-596', 'https://www.bookbeat.se/bok/tankelasaren-477005', 'https://www.bookbeat.se/bok/de-tva-tornen-16608', 'https://www.bookbeat.se/bok/konungens-aterkomst-16694', 'https://www.bookbeat.se/bok/the-two-towers-569920', 'https://www.bookbeat.se/bok/the-cruel-prince-(the-folk-of-the-air)-66718', 'https://www.bookbeat.se/bok/game-of-thrones-drakarnas-dans-642', 'https://www.bookbeat.se/bok/1984-16242', 'https://www.bookbeat.se/bok/game-of-thrones-krakornas-fest-630', 'https://www.bookbeat.se/bok/fursten-av-kaos-52506', 'https://www.bookbeat.se/bok/damen-i-sjon-309893', 'https://www.bookbeat.se/bok/tornets-fall-28001', 'https://www.bookbeat.se/bok/monstrets-dotter-477007', 'https://www.bookbeat.se/bok/the-return-of-the-king-570343', 'https://www.bookbeat.se/bok/farornas-vag-19802', 'https://www.bookbeat.se/bok/the-selection-1-ceremonin-18033', 'https://www.bookbeat.se/bok/a-game-of-thrones-25837', 'https://www.bookbeat.se/bok/svarta-tornet-52891', 'https://www.bookbeat.se/bok/gyllene-sonen-16659', 'https://www.bookbeat.se/bok/valeres-horn-20435', 'https://www.bookbeat.se/bok/hemligheternas-rike-477006', 'https://www.bookbeat.se/bok/det-frammande-landet-477003', 'https://www.bookbeat.se/bok/skuggan-vaxer-27711', 'https://www.bookbeat.se/bok/stormen-vaknar-37660', 'https://www.bookbeat.se/bok/a-storm-of-swords-25902', 'https://www.bookbeat.se/bok/tidens-hjul-19964', 'https://www.bookbeat.se/bok/alvblod-280747', 'https://www.bookbeat.se/bok/hobbiten-16206', 'https://www.bookbeat.se/bok/magician-26869', 'https://www.bookbeat.se/bok/the-wicked-king-(the-folk-of-the-air-2)-106647', 'https://www.bookbeat.se/bok/glassvardet-208692', 'https://www.bookbeat.se/bok/the-selection-2-eliten-23986', 'https://www.bookbeat.se/bok/a-clash-of-kings-25839', 'https://www.bookbeat.se/bok/klanernas-uppbrott-34461', 'https://www.bookbeat.se/bok/farjan-16637', 'https://www.bookbeat.se/bok/foraktets-tid-280745', 'https://www.bookbeat.se/bok/drakens-flykt-24587', 'https://www.bookbeat.se/bok/tomans-huvud-21266', 'https://www.bookbeat.se/bok/vindarnas-skal-54599', 'https://www.bookbeat.se/bok/svalans-torn-309892', 'https://www.bookbeat.se/bok/royal-assassin-26425', 'https://www.bookbeat.se/bok/the-hobbit-263892', 'https://www.bookbeat.se/bok/fallen-angel-23517', 'https://www.bookbeat.se/bok/elddopet-290201', 'https://www.bookbeat.se/bok/tears-klippa-24067', 'https://www.bookbeat.se/bok/den-sista-onskningen-:-berattelser-om-geralt-av-rivia-251110', 'https://www.bookbeat.se/bok/en-krona-av-svard-57480', 'https://www.bookbeat.se/bok/maze-runner-i-dodens-labyrint-15665', 'https://www.bookbeat.se/bok/the-selection-3-den-utvalda-28271', 'https://www.bookbeat.se/bok/senare-309858', 'https://www.bookbeat.se/bok/a-dance-with-dragons-25911', 'https://www.bookbeat.se/bok/shatter-me-268472', 'https://www.bookbeat.se/bok/ror-mig-inte!-23520', 'https://www.bookbeat.se/bok/hundra-ar-av-ensamhet-229470', 'https://www.bookbeat.se/bok/den-grona-milen-166262', \"https://www.bookbeat.se/bok/assassin's-apprentice-26437\", 'https://www.bookbeat.se/bok/knivarnas-vag-59142', 'https://www.bookbeat.se/bok/a-feast-for-crows-25880', \"https://www.bookbeat.se/bok/assassin's-quest-26444\", 'https://www.bookbeat.se/bok/unravel-me-280830', 'https://www.bookbeat.se/bok/radda-mig-inte!-23581', 'https://www.bookbeat.se/bok/maze-runner-i-vansinnets-oken-15685', 'https://www.bookbeat.se/bok/warriors.-ut-i-det-vilda-20945', 'https://www.bookbeat.se/bok/den-onda-dagen-127546', 'https://www.bookbeat.se/bok/legend-207883', 'https://www.bookbeat.se/bok/the-blade-itself-126268', 'https://www.bookbeat.se/bok/drakviskaren-53049', 'https://www.bookbeat.se/bok/the-fellowship-of-the-ring-109840', 'https://www.bookbeat.se/bok/fallan-86122', 'https://www.bookbeat.se/bok/maze-runner-i-dodens-stad-15696', 'https://www.bookbeat.se/bok/ovadrens-tid-518541', \"https://www.bookbeat.se/bok/fool's-quest-29979\", 'https://www.bookbeat.se/bok/jarnets-tid-62882', 'https://www.bookbeat.se/bok/the-silmarillion-27463', 'https://www.bookbeat.se/bok/vinterns-hjarta-68952', \"https://www.bookbeat.se/bok/fool's-assassin-27479\", 'https://www.bookbeat.se/bok/dracula-16238', 'https://www.bookbeat.se/bok/genom-dina-ogon-15400', 'https://www.bookbeat.se/bok/odets-svard-:-berattelser-om-geralt-av-rivia-251109', 'https://www.bookbeat.se/bok/ignite-me-280828', 'https://www.bookbeat.se/bok/before-they-are-hanged-124977', 'https://www.bookbeat.se/bok/eira-martell-flickan-av-morkret-991956', 'https://www.bookbeat.se/bok/forlorad-angel-23524', 'https://www.bookbeat.se/bok/de-nio-manarnas-dotter-73873', 'https://www.bookbeat.se/bok/tar-valons-fange-79079', 'https://www.bookbeat.se/bok/the-core-54155', \"https://www.bookbeat.se/bok/assassin's-fate-38297\", \"https://www.bookbeat.se/bok/fool's-fate-26636\", 'https://www.bookbeat.se/bok/the-painted-man-26931', 'https://www.bookbeat.se/bok/en-sekund-i-taget-16211', 'https://www.bookbeat.se/bok/fire-and-blood-101608', 'https://www.bookbeat.se/bok/warriors.-eld-och-is-23387', 'https://www.bookbeat.se/bok/hemmet-38516', 'https://www.bookbeat.se/bok/silverthorn-26799', 'https://www.bookbeat.se/bok/nattens-begar-281481', 'https://www.bookbeat.se/bok/the-chronicles-of-narnia-complete-audio-collection-172398', 'https://www.bookbeat.se/bok/prodigy-207950', 'https://www.bookbeat.se/bok/gaffeln-haxan-och-draken-:-tre-berattelser-fran-alagaesia-213476', \"https://www.bookbeat.se/bok/the-king's-buccaneer-26813\", 'https://www.bookbeat.se/bok/storm-and-fury-124599', 'https://www.bookbeat.se/bok/noras-val-23525', 'https://www.bookbeat.se/bok/rage-and-ruin-245070', 'https://www.bookbeat.se/bok/the-atlas-six-650582', 'https://www.bookbeat.se/bok/warriors-1:-det-svara-valet-38181', 'https://www.bookbeat.se/bok/den-femte-arstiden-147088', 'https://www.bookbeat.se/bok/eldfodd-690594', 'https://www.bookbeat.se/bok/witch-of-the-federation-i-165546', 'https://www.bookbeat.se/bok/restore-me-280826', 'https://www.bookbeat.se/bok/warriors.-stormen-kommer-38183', 'https://www.bookbeat.se/bok/natten-jag-dog-23335', 'https://www.bookbeat.se/bok/the-golden-fool-26614', 'https://www.bookbeat.se/bok/the-desert-spear-26946', 'https://www.bookbeat.se/bok/the-daylight-war-26956', \"https://www.bookbeat.se/bok/fool's-errand-26454\", 'https://www.bookbeat.se/bok/doktor-somn-523', 'https://www.bookbeat.se/bok/champion-207983']\n"
     ]
    }
   ],
   "source": [
    "with open(booklinks_csv_file) as file:\n",
    "    book_links = [root_url + link.strip() for link in file]\n",
    "\n",
    "print(book_links)"
   ]
  },
  {
   "attachments": {},
   "cell_type": "markdown",
   "metadata": {},
   "source": [
    "## Scrape Individual Book Pages\n",
    "- Selenium scrapes all html information from each link in `book_links`, storing the information on an `html_soup` list."
   ]
  },
  {
   "cell_type": "code",
   "execution_count": 9,
   "metadata": {},
   "outputs": [
    {
     "name": "stderr",
     "output_type": "stream",
     "text": [
      "C:\\Users\\james\\AppData\\Local\\Temp\\ipykernel_9728\\2738559768.py:5: DeprecationWarning: executable_path has been deprecated, please pass in a Service object\n",
      "  driver = webdriver.Chrome(executable_path=chrome_driver_path) # for PC\n"
     ]
    },
    {
     "name": "stdout",
     "output_type": "stream",
     "text": [
      "SEE MORE not found with  https://www.bookbeat.se/bok/game-of-thrones-kungarnas-krig-552\n",
      "SEE MORE not found with  https://www.bookbeat.se/bok/gyllene-sonen-16659\n",
      "SEE MORE not found with  https://www.bookbeat.se/bok/a-storm-of-swords-25902\n",
      "SEE MORE not found with  https://www.bookbeat.se/bok/tidens-hjul-19964\n",
      "SEE MORE not found with  https://www.bookbeat.se/bok/magician-26869\n",
      "SEE MORE not found with  https://www.bookbeat.se/bok/drakens-flykt-24587\n",
      "SEE MORE not found with  https://www.bookbeat.se/bok/tomans-huvud-21266\n",
      "SEE MORE not found with  https://www.bookbeat.se/bok/vindarnas-skal-54599\n",
      "SEE MORE not found with  https://www.bookbeat.se/bok/royal-assassin-26425\n",
      "SEE MORE not found with  https://www.bookbeat.se/bok/assassin's-apprentice-26437\n",
      "SEE MORE not found with  https://www.bookbeat.se/bok/knivarnas-vag-59142\n",
      "SEE MORE not found with  https://www.bookbeat.se/bok/assassin's-quest-26444\n",
      "SEE MORE not found with  https://www.bookbeat.se/bok/den-onda-dagen-127546\n",
      "SEE MORE not found with  https://www.bookbeat.se/bok/drakviskaren-53049\n",
      "SEE MORE not found with  https://www.bookbeat.se/bok/maze-runner-i-dodens-stad-15696\n",
      "SEE MORE not found with  https://www.bookbeat.se/bok/fool's-quest-29979\n",
      "SEE MORE not found with  https://www.bookbeat.se/bok/jarnets-tid-62882\n",
      "SEE MORE not found with  https://www.bookbeat.se/bok/the-silmarillion-27463\n",
      "SEE MORE not found with  https://www.bookbeat.se/bok/vinterns-hjarta-68952\n",
      "SEE MORE not found with  https://www.bookbeat.se/bok/fool's-assassin-27479\n",
      "SEE MORE not found with  https://www.bookbeat.se/bok/genom-dina-ogon-15400\n",
      "SEE MORE not found with  https://www.bookbeat.se/bok/ignite-me-280828\n",
      "SEE MORE not found with  https://www.bookbeat.se/bok/before-they-are-hanged-124977\n",
      "SEE MORE not found with  https://www.bookbeat.se/bok/de-nio-manarnas-dotter-73873\n",
      "SEE MORE not found with  https://www.bookbeat.se/bok/tar-valons-fange-79079\n",
      "SEE MORE not found with  https://www.bookbeat.se/bok/the-core-54155\n",
      "SEE MORE not found with  https://www.bookbeat.se/bok/assassin's-fate-38297\n",
      "SEE MORE not found with  https://www.bookbeat.se/bok/fire-and-blood-101608\n",
      "SEE MORE not found with  https://www.bookbeat.se/bok/silverthorn-26799\n",
      "SEE MORE not found with  https://www.bookbeat.se/bok/the-chronicles-of-narnia-complete-audio-collection-172398\n",
      "SEE MORE not found with  https://www.bookbeat.se/bok/prodigy-207950\n",
      "SEE MORE not found with  https://www.bookbeat.se/bok/the-king's-buccaneer-26813\n",
      "SEE MORE not found with  https://www.bookbeat.se/bok/storm-and-fury-124599\n",
      "SEE MORE not found with  https://www.bookbeat.se/bok/rage-and-ruin-245070\n",
      "SEE MORE not found with  https://www.bookbeat.se/bok/witch-of-the-federation-i-165546\n",
      "SEE MORE not found with  https://www.bookbeat.se/bok/restore-me-280826\n",
      "SEE MORE not found with  https://www.bookbeat.se/bok/natten-jag-dog-23335\n",
      "SEE MORE not found with  https://www.bookbeat.se/bok/the-golden-fool-26614\n",
      "SEE MORE not found with  https://www.bookbeat.se/bok/the-daylight-war-26956\n",
      "SEE MORE not found with  https://www.bookbeat.se/bok/fool's-errand-26454\n",
      "SEE MORE not found with  https://www.bookbeat.se/bok/doktor-somn-523\n"
     ]
    }
   ],
   "source": [
    "html_soup = []\n",
    "\n",
    "# Create Web Driver\n",
    "chrome_driver_path = r\"C:\\Program Files (x86)\\chromedriver.exe\"\n",
    "driver = webdriver.Chrome(executable_path=chrome_driver_path) # for PC\n",
    "\n",
    "# Open BookBeat homepage\n",
    "driver.get(url=root_url)\n",
    "\n",
    "# Click on \"Accept All Cookies Buttong\"\n",
    "time.sleep(3)\n",
    "cookies_button = driver.find_element(By.XPATH, value='//*[@id=\"__next\"]/div[1]/div[1]/div/div/button[1]')\n",
    "cookies_button.click()\n",
    "\n",
    "for link in book_links:\n",
    "    \n",
    "    # Go to each individual book page.\n",
    "    driver.get(url=link)\n",
    "\n",
    "    # Click 'See More (visa mer) Button\n",
    "    time.sleep(0.5)\n",
    "    \n",
    "    try:\n",
    "        see_more_button = driver.find_element(By.CSS_SELECTOR, value='#__next > div.bb-app > div.layoutWithMenu_base___CUtP.bg_white__NNOg1 > main > section.common_fluid__JxoyD.bg_yellowTertiary__5qBrt.common_pagePadding__qy5mB.paddingTop_medium__MP5pf.paddingBottom_medium__r7vd4 > div > div > button')\n",
    "        see_more_button.click()\n",
    "    except NoSuchElementException:\n",
    "        print(\"SEE MORE not found with \", link)\n",
    "\n",
    "    # Extract HTML\n",
    "    soup = BeautifulSoup(driver.page_source, \"html.parser\")\n",
    "\n",
    "    html_soup.append(soup)\n",
    "\n",
    "# Close the driver.\n",
    "driver.quit()"
   ]
  },
  {
   "attachments": {},
   "cell_type": "markdown",
   "metadata": {},
   "source": [
    "### Backup `html_soup`\n",
    "`html_soup` is a giant list with the html scraped from possibly hundreds or thousands of websites. So that list is being saved onto html_soup.pkl just in case."
   ]
  },
  {
   "cell_type": "code",
   "execution_count": null,
   "metadata": {},
   "outputs": [],
   "source": [
    "# BACKUP with this code here.\n",
    "# import pickle\n",
    "\n",
    "# with open('html_soup.pkl', 'wb') as file:\n",
    "#     pickle.dump(html_soup, file)\n",
    "\n",
    "## RESTORE with this code here.\n",
    "# with open('html_soup.pkl', 'rb') as file:\n",
    "#     html_soup = pickle.load(file)"
   ]
  },
  {
   "attachments": {},
   "cell_type": "markdown",
   "metadata": {},
   "source": [
    "# Creating the Pandas DataFrame"
   ]
  },
  {
   "attachments": {},
   "cell_type": "markdown",
   "metadata": {},
   "source": [
    "### Extract Book Titles from html_soup"
   ]
  },
  {
   "cell_type": "code",
   "execution_count": 13,
   "metadata": {},
   "outputs": [
    {
     "name": "stdout",
     "output_type": "stream",
     "text": [
      "150 ELEMENTS\n"
     ]
    }
   ],
   "source": [
    "# Extract Titles\n",
    "title_list = []\n",
    "title_CSS_selector = \"nuiHeader_inner__1Kl0C\"\n",
    "\n",
    "for soup in html_soup:\n",
    "\n",
    "    element = soup.find(class_=title_CSS_selector)\n",
    "\n",
    "    if element:\n",
    "        title_list.append(element.text)\n",
    "    else:\n",
    "        title_list.append(np.NaN)\n",
    "\n",
    "print(len(title_list), 'ELEMENTS')"
   ]
  },
  {
   "attachments": {},
   "cell_type": "markdown",
   "metadata": {},
   "source": [
    "### Extract description from html_soup"
   ]
  },
  {
   "cell_type": "code",
   "execution_count": 14,
   "metadata": {},
   "outputs": [
    {
     "name": "stdout",
     "output_type": "stream",
     "text": [
      "150 ELEMENTS\n"
     ]
    }
   ],
   "source": [
    "# Extract Description\n",
    "description_list = []\n",
    "\n",
    "CSS_selector = \"p > span\"\n",
    "\n",
    "for soup in html_soup:\n",
    "\n",
    "    element = soup.select(CSS_selector)[0]\n",
    "\n",
    "    if element:\n",
    "        description_list.append(element.text)\n",
    "    else:\n",
    "        description_list.append(np.NaN)\n",
    "\n",
    "print(len(description_list), 'ELEMENTS')"
   ]
  },
  {
   "attachments": {},
   "cell_type": "markdown",
   "metadata": {},
   "source": [
    "### Extract ratings from html_soup"
   ]
  },
  {
   "cell_type": "code",
   "execution_count": null,
   "metadata": {},
   "outputs": [],
   "source": [
    "# EXTRACT RATING\n",
    "selector = \"span + span\"\n",
    "rating_list = []\n",
    "\n",
    "\n",
    "for soup in html_soup:\n",
    "\n",
    "    # Gets the rating in the form of \"Betyg 4.8\"\n",
    "    element = soup.select_one(selector=selector)\n",
    "    \n",
    "    if element:\n",
    "        \n",
    "        rating = element.text\n",
    "        rating = float(rating.strip().replace(\"Betyg \", \"\"))\n",
    "        rating_list.append(rating)\n",
    "\n",
    "    else:\n",
    "        rating_list.append(np.NaN)"
   ]
  },
  {
   "attachments": {},
   "cell_type": "markdown",
   "metadata": {},
   "source": [
    "## Get Reviews from html_soup"
   ]
  },
  {
   "cell_type": "code",
   "execution_count": 16,
   "metadata": {},
   "outputs": [],
   "source": [
    "review_list = []\n",
    "no_reviews = []\n",
    "\n",
    "review_CSS_selector = \"review_text__S3C6r\"\n",
    "\n",
    "for soup in html_soup:\n",
    "\n",
    "    reviews = [review.text for review in soup.find_all(class_=review_CSS_selector)]\n",
    "\n",
    "    review_list.append(reviews)"
   ]
  },
  {
   "attachments": {},
   "cell_type": "markdown",
   "metadata": {},
   "source": [
    "### Compile lists into a dictionary."
   ]
  },
  {
   "cell_type": "code",
   "execution_count": 33,
   "metadata": {},
   "outputs": [],
   "source": [
    "book_data = dict(zip(['title', 'rating', 'description', 'reviews_se', 'url'], \n",
    "                     [title_list, rating_list, description_list, review_list, book_links]))"
   ]
  },
  {
   "attachments": {},
   "cell_type": "markdown",
   "metadata": {},
   "source": [
    "## Convert dictionary to a Pandas DataFrame"
   ]
  },
  {
   "cell_type": "code",
   "execution_count": 34,
   "metadata": {},
   "outputs": [],
   "source": [
    "book_data = pd.DataFrame(book_data)"
   ]
  },
  {
   "cell_type": "code",
   "execution_count": 35,
   "metadata": {},
   "outputs": [
    {
     "data": {
      "text/html": [
       "<div>\n",
       "<style scoped>\n",
       "    .dataframe tbody tr th:only-of-type {\n",
       "        vertical-align: middle;\n",
       "    }\n",
       "\n",
       "    .dataframe tbody tr th {\n",
       "        vertical-align: top;\n",
       "    }\n",
       "\n",
       "    .dataframe thead th {\n",
       "        text-align: right;\n",
       "    }\n",
       "</style>\n",
       "<table border=\"1\" class=\"dataframe\">\n",
       "  <thead>\n",
       "    <tr style=\"text-align: right;\">\n",
       "      <th></th>\n",
       "      <th>title</th>\n",
       "      <th>rating</th>\n",
       "      <th>description</th>\n",
       "      <th>reviews_se</th>\n",
       "      <th>url</th>\n",
       "    </tr>\n",
       "  </thead>\n",
       "  <tbody>\n",
       "    <tr>\n",
       "      <th>0</th>\n",
       "      <td>Harry Potter och Fenixorden</td>\n",
       "      <td>4.8</td>\n",
       "      <td>Harry Potter har fått nog. Sommarlovet hos Dur...</td>\n",
       "      <td>[Varje bok är en underbar dröm! Jag älskar kar...</td>\n",
       "      <td>https://www.bookbeat.se/bok/harry-potter-och-f...</td>\n",
       "    </tr>\n",
       "    <tr>\n",
       "      <th>1</th>\n",
       "      <td>Harry Potter and the Order of the Phoenix</td>\n",
       "      <td>4.8</td>\n",
       "      <td>'You are sharing the Dark Lord's thoughts and ...</td>\n",
       "      <td>[Bättre böcker finns inte , 😍, Så bra ⚡️⚡️⚡️⚡️...</td>\n",
       "      <td>https://www.bookbeat.se/bok/harry-potter-and-t...</td>\n",
       "    </tr>\n",
       "    <tr>\n",
       "      <th>2</th>\n",
       "      <td>Harry Potter och Den Flammande Bägaren</td>\n",
       "      <td>4.8</td>\n",
       "      <td>En natt vaknar Harry Potter av att ärret i pan...</td>\n",
       "      <td>[Bästa boken!!!, Väldigt bra lätt att somna ti...</td>\n",
       "      <td>https://www.bookbeat.se/bok/harry-potter-och-d...</td>\n",
       "    </tr>\n",
       "  </tbody>\n",
       "</table>\n",
       "</div>"
      ],
      "text/plain": [
       "                                       title  rating   \n",
       "0                Harry Potter och Fenixorden     4.8  \\\n",
       "1  Harry Potter and the Order of the Phoenix     4.8   \n",
       "2     Harry Potter och Den Flammande Bägaren     4.8   \n",
       "\n",
       "                                         description   \n",
       "0  Harry Potter har fått nog. Sommarlovet hos Dur...  \\\n",
       "1  'You are sharing the Dark Lord's thoughts and ...   \n",
       "2  En natt vaknar Harry Potter av att ärret i pan...   \n",
       "\n",
       "                                          reviews_se   \n",
       "0  [Varje bok är en underbar dröm! Jag älskar kar...  \\\n",
       "1  [Bättre böcker finns inte , 😍, Så bra ⚡️⚡️⚡️⚡️...   \n",
       "2  [Bästa boken!!!, Väldigt bra lätt att somna ti...   \n",
       "\n",
       "                                                 url  \n",
       "0  https://www.bookbeat.se/bok/harry-potter-och-f...  \n",
       "1  https://www.bookbeat.se/bok/harry-potter-and-t...  \n",
       "2  https://www.bookbeat.se/bok/harry-potter-och-d...  "
      ]
     },
     "execution_count": 35,
     "metadata": {},
     "output_type": "execute_result"
    }
   ],
   "source": [
    "book_data.head(3)"
   ]
  },
  {
   "attachments": {},
   "cell_type": "markdown",
   "metadata": {},
   "source": [
    "## Save DataFrame to a CSV file."
   ]
  },
  {
   "cell_type": "code",
   "execution_count": 36,
   "metadata": {},
   "outputs": [],
   "source": [
    "# Save to CSV\n",
    "book_data.to_csv(\"df.csv\")"
   ]
  },
  {
   "attachments": {},
   "cell_type": "markdown",
   "metadata": {},
   "source": [
    "# Data Analysis"
   ]
  },
  {
   "attachments": {},
   "cell_type": "markdown",
   "metadata": {},
   "source": [
    "### Create DataFrame"
   ]
  },
  {
   "cell_type": "code",
   "execution_count": 22,
   "metadata": {},
   "outputs": [],
   "source": [
    "df = pd.read_csv('df.csv')\n",
    "\n",
    "# Cleaning up index and first column problem.\n",
    "df = df.reset_index(drop=True)\n",
    "if df.columns[0].startswith('Unnamed'):\n",
    "    df = df.drop(df.columns[0], axis=1)"
   ]
  },
  {
   "cell_type": "code",
   "execution_count": 23,
   "metadata": {},
   "outputs": [
    {
     "data": {
      "text/html": [
       "<div>\n",
       "<style scoped>\n",
       "    .dataframe tbody tr th:only-of-type {\n",
       "        vertical-align: middle;\n",
       "    }\n",
       "\n",
       "    .dataframe tbody tr th {\n",
       "        vertical-align: top;\n",
       "    }\n",
       "\n",
       "    .dataframe thead th {\n",
       "        text-align: right;\n",
       "    }\n",
       "</style>\n",
       "<table border=\"1\" class=\"dataframe\">\n",
       "  <thead>\n",
       "    <tr style=\"text-align: right;\">\n",
       "      <th></th>\n",
       "      <th>title</th>\n",
       "      <th>rating</th>\n",
       "      <th>description</th>\n",
       "      <th>reviews_se</th>\n",
       "      <th>url</th>\n",
       "    </tr>\n",
       "  </thead>\n",
       "  <tbody>\n",
       "    <tr>\n",
       "      <th>0</th>\n",
       "      <td>Harry Potter och Fenixorden</td>\n",
       "      <td>4.8</td>\n",
       "      <td>Harry Potter har fått nog. Sommarlovet hos Dur...</td>\n",
       "      <td>['Varje bok är en underbar dröm! Jag älskar ka...</td>\n",
       "      <td>https://www.bookbeat.se/bok/harry-potter-och-f...</td>\n",
       "    </tr>\n",
       "  </tbody>\n",
       "</table>\n",
       "</div>"
      ],
      "text/plain": [
       "                         title  rating   \n",
       "0  Harry Potter och Fenixorden     4.8  \\\n",
       "\n",
       "                                         description   \n",
       "0  Harry Potter har fått nog. Sommarlovet hos Dur...  \\\n",
       "\n",
       "                                          reviews_se   \n",
       "0  ['Varje bok är en underbar dröm! Jag älskar ka...  \\\n",
       "\n",
       "                                                 url  \n",
       "0  https://www.bookbeat.se/bok/harry-potter-och-f...  "
      ]
     },
     "execution_count": 23,
     "metadata": {},
     "output_type": "execute_result"
    }
   ],
   "source": [
    "df.head(1)"
   ]
  },
  {
   "attachments": {},
   "cell_type": "markdown",
   "metadata": {},
   "source": [
    "### Clean Reviews in Swedish `reviews_se` Column"
   ]
  },
  {
   "cell_type": "code",
   "execution_count": 24,
   "metadata": {},
   "outputs": [
    {
     "data": {
      "text/plain": [
       "\"['Varje bok är en underbar dröm! Jag älskar karaktärerna, ja inte lord Voldemort men Hagrid Fred det är så mysigt att bara drömma sig bort timme efter timme och fantisera ❤️❤️', 'Liiiite pil', 'Bästtttttt!', 'Den är jätte bra!🧙\\\\u200d♂️', 'Älskar att ligga i sängen och lyssna till Harry Potter!🤩🤩', 'Super bra bok', 'Jag älskar Harry Potter så mycket så jag kommer lyssna på alla böcker som finns \\\\n\\\\n🥳🎉', 'Rösten är fantastik älskar Harry potter böckerna och tycker de är fantastiska miljöer och karaktärer\\\\n', 'Harry Potter böckerna är så bra och detjalerade😊 dock JÄTTELÅNG!!🤭 men det är bara skönt tycker jag!!! Superbra uppläst!! Älskar Harry Potter✨🪄🎩', 'Alltid lika bra🤩', 'Bra ', '100 gånger bättre en 1.', 'Den var best🤩🤩🤩🤩', 'Så spånnande!', 'Grymt bra bok, både binder upp många trådar och drar fram nya inför de två avslutande böckerna. Längden som jag ser många klaga över är inget problem, med så mycket som händer behövs utrymmet för att ställa om till seriens avslutning. 5 av 5 för boken och Björn är fan bäst, 5 av 5 till honom med.']\""
      ]
     },
     "execution_count": 24,
     "metadata": {},
     "output_type": "execute_result"
    }
   ],
   "source": [
    "df['reviews_se'][0]"
   ]
  },
  {
   "cell_type": "code",
   "execution_count": 25,
   "metadata": {},
   "outputs": [],
   "source": [
    "def clean_text(text):\n",
    "    cleaned_text = text.replace('[','').replace(']','').replace('\"','').replace('\\\\','')\n",
    "    return cleaned_text\n",
    "\n",
    "# apply the function to the reviews column\n",
    "df['reviews_se'] = df['reviews_se'].apply(clean_text)"
   ]
  },
  {
   "cell_type": "code",
   "execution_count": 26,
   "metadata": {},
   "outputs": [
    {
     "data": {
      "text/plain": [
       "\"'Varje bok är en underbar dröm! Jag älskar karaktärerna, ja inte lord Voldemort men Hagrid Fred det är så mysigt att bara drömma sig bort timme efter timme och fantisera ❤️❤️', 'Liiiite pil', 'Bästtttttt!', 'Den är jätte bra!🧙u200d♂️', 'Älskar att ligga i sängen och lyssna till Harry Potter!🤩🤩', 'Super bra bok', 'Jag älskar Harry Potter så mycket så jag kommer lyssna på alla böcker som finns nn🥳🎉', 'Rösten är fantastik älskar Harry potter böckerna och tycker de är fantastiska miljöer och karaktärern', 'Harry Potter böckerna är så bra och detjalerade😊 dock JÄTTELÅNG!!🤭 men det är bara skönt tycker jag!!! Superbra uppläst!! Älskar Harry Potter✨🪄🎩', 'Alltid lika bra🤩', 'Bra ', '100 gånger bättre en 1.', 'Den var best🤩🤩🤩🤩', 'Så spånnande!', 'Grymt bra bok, både binder upp många trådar och drar fram nya inför de två avslutande böckerna. Längden som jag ser många klaga över är inget problem, med så mycket som händer behövs utrymmet för att ställa om till seriens avslutning. 5 av 5 för boken och Björn är fan bäst, 5 av 5 till honom med.'\""
      ]
     },
     "execution_count": 26,
     "metadata": {},
     "output_type": "execute_result"
    }
   ],
   "source": [
    "df['reviews_se'][0]"
   ]
  },
  {
   "attachments": {},
   "cell_type": "markdown",
   "metadata": {},
   "source": [
    "## Translate Swedish Reviews into English\n",
    "- Reviews need to be translated into English to use nltk Sentiment Analyzer.\n",
    "- It's a work around to avoid paying API fees, but need to copy and paste the Swedish reviews into Google Sheets, translate them to English, then add them back to the dataframe.\n",
    "\n",
    "Very cumbersome, I know. A future improvement would be automating this process."
   ]
  },
  {
   "attachments": {},
   "cell_type": "markdown",
   "metadata": {},
   "source": [
    "### Copy Swedish Reviews to Clipboard\n",
    "Run this cell to copy reviews to clipboard."
   ]
  },
  {
   "cell_type": "code",
   "execution_count": 18,
   "metadata": {},
   "outputs": [],
   "source": [
    "df['reviews_se'].to_clipboard(header=False, index=False)"
   ]
  },
  {
   "attachments": {},
   "cell_type": "markdown",
   "metadata": {},
   "source": [
    "### Convert Swedish Cells to English"
   ]
  },
  {
   "attachments": {
    "image.png": {
     "image/png": "[encoded data removed]"
    }
   },
   "cell_type": "markdown",
   "metadata": {},
   "source": [
    "Paste cells to Google Sheet and use function `=GOOGLETRANSLATE(A1,\"SV\", \"EN\")` to create a new column which translates Swedish cells into English.\n",
    "\n",
    "![image.png](attachment:image.png)"
   ]
  },
  {
   "attachments": {},
   "cell_type": "markdown",
   "metadata": {},
   "source": [
    "### Save English Cells as CSV\n",
    "Then save the English cells to CSV file called \"reviews_english.csv\""
   ]
  },
  {
   "attachments": {},
   "cell_type": "markdown",
   "metadata": {},
   "source": [
    "### Add English Reviews to the dataframe"
   ]
  },
  {
   "cell_type": "code",
   "execution_count": 37,
   "metadata": {},
   "outputs": [],
   "source": [
    "df['reviews_en'] = pd.read_csv(\"reviews_english.csv\").replace('#VALUE!', np.nan)"
   ]
  },
  {
   "cell_type": "code",
   "execution_count": 38,
   "metadata": {},
   "outputs": [
    {
     "data": {
      "text/plain": [
       "0      Better books are not there ',' 😍 ',' so good ⚡...\n",
       "1      Best book !!! ',' very good easy to fall aslee...\n",
       "2      Good ',' It is so good and the others are also...\n",
       "3      The Harry Potter series is among the best ever...\n",
       "4      10/10 ',' Excellent! ',' I've always loved thi...\n",
       "                             ...                        \n",
       "145    Wonderful book! ',' Great series of books ',' ...\n",
       "146    I WANT TO STAY IN THE REALM OF THE ELDERLING F...\n",
       "147                                                  NaN\n",
       "148    Good story and good end 😊 ',' The book is good...\n",
       "149                                                  NaN\n",
       "Name: reviews_en, Length: 150, dtype: object"
      ]
     },
     "execution_count": 38,
     "metadata": {},
     "output_type": "execute_result"
    }
   ],
   "source": [
    "df['reviews_en']"
   ]
  },
  {
   "attachments": {},
   "cell_type": "markdown",
   "metadata": {},
   "source": [
    "# Sentiment Analysis"
   ]
  },
  {
   "attachments": {},
   "cell_type": "markdown",
   "metadata": {},
   "source": [
    "### `analyze_sentiment()`\n",
    "This function analyzes a review, and then returns polarity scores.\n",
    "\n",
    "For example, \"This book is great, but it isn't my favorite.\" would return\n",
    "- **Positive Sentiment:** 0.2\n",
    "- **Negative Sentiment:** 0.252\n",
    "- **Netural Sentiment:** 0.548\n",
    "- **Compound Sentiment:** -0.1705\n",
    "\n",
    "Which are used to give a numerical represetnation of the text."
   ]
  },
  {
   "cell_type": "code",
   "execution_count": 82,
   "metadata": {},
   "outputs": [
    {
     "data": {
      "text/plain": [
       "(0.2, 0.252, 0.548, -0.1705)"
      ]
     },
     "execution_count": 82,
     "metadata": {},
     "output_type": "execute_result"
    }
   ],
   "source": [
    "def analyze_sentiment(text):\n",
    "    \"\"\"\n",
    "    Analyze the sentiment of a given text using the SentimentIntensityAnalyzer from the nltk.sentiment.vader module.\n",
    "\n",
    "    Args:\n",
    "        text (str): The text to be analyzed for sentiment.\n",
    "\n",
    "    Returns:\n",
    "        tuple: A tuple of four sentiment scores: positive, negative, neutral, and compound.\n",
    "\n",
    "    \"\"\"\n",
    "    # Instantiate a SentimentIntensityAnalyzer object\n",
    "    analyzer = SentimentIntensityAnalyzer()\n",
    "\n",
    "    # Call the polarity_scores method on the analyzer object, passing in the text to be analyzed\n",
    "    scores = analyzer.polarity_scores(text)\n",
    "\n",
    "    # Extract the positive, negative, neutral, and compound scores from the scores dictionary and return them as a tuple\n",
    "    return scores['pos'], scores['neg'], scores['neu'], scores['compound']"
   ]
  },
  {
   "cell_type": "code",
   "execution_count": 83,
   "metadata": {},
   "outputs": [
    {
     "data": {
      "text/plain": [
       "(0.2, 0.252, 0.548, -0.1705)"
      ]
     },
     "execution_count": 83,
     "metadata": {},
     "output_type": "execute_result"
    }
   ],
   "source": [
    "analyze_sentiment(\"This book is great, but it isn't my favorite.\")"
   ]
  },
  {
   "attachments": {},
   "cell_type": "markdown",
   "metadata": {},
   "source": [
    "## Calculate the `positive_sentiment`, `negative_sentiment`, `neutral_sentiment` and `compound_sentament` of all the reviews in each book."
   ]
  },
  {
   "cell_type": "code",
   "execution_count": 52,
   "metadata": {},
   "outputs": [],
   "source": [
    "# Fill missing values with empty strings\n",
    "df['reviews_en'] = df['reviews_en'].fillna('')\n",
    "\n",
    "# Apply the sentiment analysis function to every row of the 'english_reviews' column \n",
    "# and create new columns for each sentiment score\n",
    "df[['positive_sentiment', 'negative_sentiment', 'neutral_sentiment', 'compound_sentament']] = df['reviews_en'].apply(analyze_sentiment).apply(pd.Series)"
   ]
  },
  {
   "cell_type": "code",
   "execution_count": 85,
   "metadata": {},
   "outputs": [
    {
     "data": {
      "text/html": [
       "<div>\n",
       "<style scoped>\n",
       "    .dataframe tbody tr th:only-of-type {\n",
       "        vertical-align: middle;\n",
       "    }\n",
       "\n",
       "    .dataframe tbody tr th {\n",
       "        vertical-align: top;\n",
       "    }\n",
       "\n",
       "    .dataframe thead th {\n",
       "        text-align: right;\n",
       "    }\n",
       "</style>\n",
       "<table border=\"1\" class=\"dataframe\">\n",
       "  <thead>\n",
       "    <tr style=\"text-align: right;\">\n",
       "      <th></th>\n",
       "      <th>title</th>\n",
       "      <th>rating</th>\n",
       "      <th>description</th>\n",
       "      <th>reviews_se</th>\n",
       "      <th>url</th>\n",
       "      <th>reviews_en</th>\n",
       "      <th>positive_sentiment</th>\n",
       "      <th>negative_sentiment</th>\n",
       "      <th>neutral_sentiment</th>\n",
       "      <th>compound_sentament</th>\n",
       "      <th>compound_sentiment_ranking</th>\n",
       "      <th>rating_ranking</th>\n",
       "    </tr>\n",
       "  </thead>\n",
       "  <tbody>\n",
       "    <tr>\n",
       "      <th>0</th>\n",
       "      <td>Harry Potter och Fenixorden</td>\n",
       "      <td>4.8</td>\n",
       "      <td>Harry Potter har fått nog. Sommarlovet hos Dur...</td>\n",
       "      <td>'Varje bok är en underbar dröm! Jag älskar kar...</td>\n",
       "      <td>https://www.bookbeat.se/bok/harry-potter-och-f...</td>\n",
       "      <td>Better books are not there ',' 😍 ',' so good ⚡...</td>\n",
       "      <td>0.279</td>\n",
       "      <td>0.036</td>\n",
       "      <td>0.686</td>\n",
       "      <td>0.9939</td>\n",
       "      <td>32.5</td>\n",
       "      <td>13.0</td>\n",
       "    </tr>\n",
       "    <tr>\n",
       "      <th>1</th>\n",
       "      <td>Harry Potter and the Order of the Phoenix</td>\n",
       "      <td>4.8</td>\n",
       "      <td>'You are sharing the Dark Lord's thoughts and ...</td>\n",
       "      <td>'Bättre böcker finns inte ', '😍', 'Så bra ⚡️⚡️...</td>\n",
       "      <td>https://www.bookbeat.se/bok/harry-potter-and-t...</td>\n",
       "      <td>Best book !!! ',' very good easy to fall aslee...</td>\n",
       "      <td>0.549</td>\n",
       "      <td>0.000</td>\n",
       "      <td>0.451</td>\n",
       "      <td>0.9966</td>\n",
       "      <td>18.5</td>\n",
       "      <td>13.0</td>\n",
       "    </tr>\n",
       "  </tbody>\n",
       "</table>\n",
       "</div>"
      ],
      "text/plain": [
       "                                       title  rating   \n",
       "0                Harry Potter och Fenixorden     4.8  \\\n",
       "1  Harry Potter and the Order of the Phoenix     4.8   \n",
       "\n",
       "                                         description   \n",
       "0  Harry Potter har fått nog. Sommarlovet hos Dur...  \\\n",
       "1  'You are sharing the Dark Lord's thoughts and ...   \n",
       "\n",
       "                                          reviews_se   \n",
       "0  'Varje bok är en underbar dröm! Jag älskar kar...  \\\n",
       "1  'Bättre böcker finns inte ', '😍', 'Så bra ⚡️⚡️...   \n",
       "\n",
       "                                                 url   \n",
       "0  https://www.bookbeat.se/bok/harry-potter-och-f...  \\\n",
       "1  https://www.bookbeat.se/bok/harry-potter-and-t...   \n",
       "\n",
       "                                          reviews_en  positive_sentiment   \n",
       "0  Better books are not there ',' 😍 ',' so good ⚡...               0.279  \\\n",
       "1  Best book !!! ',' very good easy to fall aslee...               0.549   \n",
       "\n",
       "   negative_sentiment  neutral_sentiment  compound_sentament   \n",
       "0               0.036              0.686              0.9939  \\\n",
       "1               0.000              0.451              0.9966   \n",
       "\n",
       "   compound_sentiment_ranking  rating_ranking  \n",
       "0                        32.5            13.0  \n",
       "1                        18.5            13.0  "
      ]
     },
     "execution_count": 85,
     "metadata": {},
     "output_type": "execute_result"
    }
   ],
   "source": [
    "df.head(2)"
   ]
  },
  {
   "attachments": {},
   "cell_type": "markdown",
   "metadata": {},
   "source": [
    "### Ranking the Ratings and Sentiment Values\n",
    "We're ranking the ratings and compound sentiment values."
   ]
  },
  {
   "cell_type": "code",
   "execution_count": 54,
   "metadata": {},
   "outputs": [],
   "source": [
    "# rank the values in the compound_sentiment column\n",
    "df['compound_sentiment_ranking'] = df['compound_sentament'].rank(ascending=False)\n",
    "\n",
    "# rank the values in the rating column\n",
    "df['rating_ranking'] = df['rating'].rank(ascending=False)"
   ]
  },
  {
   "cell_type": "code",
   "execution_count": 71,
   "metadata": {},
   "outputs": [],
   "source": [
    "rankings = df.loc[:, ['title', 'compound_sentiment_ranking', 'rating_ranking', 'url']]"
   ]
  },
  {
   "attachments": {},
   "cell_type": "markdown",
   "metadata": {},
   "source": [
    "## Ranking by Ratings\n",
    "Here we can see that it's basically Harry Potter and Game of Thrones on top."
   ]
  },
  {
   "cell_type": "code",
   "execution_count": 78,
   "metadata": {},
   "outputs": [
    {
     "data": {
      "text/html": [
       "<div>\n",
       "<style scoped>\n",
       "    .dataframe tbody tr th:only-of-type {\n",
       "        vertical-align: middle;\n",
       "    }\n",
       "\n",
       "    .dataframe tbody tr th {\n",
       "        vertical-align: top;\n",
       "    }\n",
       "\n",
       "    .dataframe thead th {\n",
       "        text-align: right;\n",
       "    }\n",
       "</style>\n",
       "<table border=\"1\" class=\"dataframe\">\n",
       "  <thead>\n",
       "    <tr style=\"text-align: right;\">\n",
       "      <th></th>\n",
       "      <th>title</th>\n",
       "      <th>compound_sentiment_ranking</th>\n",
       "      <th>rating_ranking</th>\n",
       "      <th>url</th>\n",
       "    </tr>\n",
       "  </thead>\n",
       "  <tbody>\n",
       "    <tr>\n",
       "      <th>3</th>\n",
       "      <td>Harry Potter och Dödsrelikerna</td>\n",
       "      <td>51.5</td>\n",
       "      <td>2.0</td>\n",
       "      <td>https://www.bookbeat.se/bok/harry-potter-och-d...</td>\n",
       "    </tr>\n",
       "    <tr>\n",
       "      <th>4</th>\n",
       "      <td>Harry Potter and the Deathly Hallows</td>\n",
       "      <td>26.0</td>\n",
       "      <td>2.0</td>\n",
       "      <td>https://www.bookbeat.se/bok/harry-potter-and-t...</td>\n",
       "    </tr>\n",
       "    <tr>\n",
       "      <th>7</th>\n",
       "      <td>Harry Potter and the Half-Blood Prince</td>\n",
       "      <td>39.0</td>\n",
       "      <td>2.0</td>\n",
       "      <td>https://www.bookbeat.se/bok/harry-potter-and-t...</td>\n",
       "    </tr>\n",
       "    <tr>\n",
       "      <th>0</th>\n",
       "      <td>Harry Potter och Fenixorden</td>\n",
       "      <td>32.5</td>\n",
       "      <td>13.0</td>\n",
       "      <td>https://www.bookbeat.se/bok/harry-potter-och-f...</td>\n",
       "    </tr>\n",
       "    <tr>\n",
       "      <th>38</th>\n",
       "      <td>The Two Towers</td>\n",
       "      <td>42.0</td>\n",
       "      <td>13.0</td>\n",
       "      <td>https://www.bookbeat.se/bok/the-two-towers-569920</td>\n",
       "    </tr>\n",
       "    <tr>\n",
       "      <th>50</th>\n",
       "      <td>A game of thrones</td>\n",
       "      <td>142.0</td>\n",
       "      <td>13.0</td>\n",
       "      <td>https://www.bookbeat.se/bok/a-game-of-thrones-...</td>\n",
       "    </tr>\n",
       "    <tr>\n",
       "      <th>58</th>\n",
       "      <td>A storm of swords</td>\n",
       "      <td>90.0</td>\n",
       "      <td>13.0</td>\n",
       "      <td>https://www.bookbeat.se/bok/a-storm-of-swords-...</td>\n",
       "    </tr>\n",
       "  </tbody>\n",
       "</table>\n",
       "</div>"
      ],
      "text/plain": [
       "                                     title  compound_sentiment_ranking   \n",
       "3           Harry Potter och Dödsrelikerna                        51.5  \\\n",
       "4     Harry Potter and the Deathly Hallows                        26.0   \n",
       "7   Harry Potter and the Half-Blood Prince                        39.0   \n",
       "0              Harry Potter och Fenixorden                        32.5   \n",
       "38                          The Two Towers                        42.0   \n",
       "50                       A game of thrones                       142.0   \n",
       "58                       A storm of swords                        90.0   \n",
       "\n",
       "    rating_ranking                                                url  \n",
       "3              2.0  https://www.bookbeat.se/bok/harry-potter-och-d...  \n",
       "4              2.0  https://www.bookbeat.se/bok/harry-potter-and-t...  \n",
       "7              2.0  https://www.bookbeat.se/bok/harry-potter-and-t...  \n",
       "0             13.0  https://www.bookbeat.se/bok/harry-potter-och-f...  \n",
       "38            13.0  https://www.bookbeat.se/bok/the-two-towers-569920  \n",
       "50            13.0  https://www.bookbeat.se/bok/a-game-of-thrones-...  \n",
       "58            13.0  https://www.bookbeat.se/bok/a-storm-of-swords-...  "
      ]
     },
     "execution_count": 78,
     "metadata": {},
     "output_type": "execute_result"
    }
   ],
   "source": [
    "rankings.sort_values(by=['rating_ranking'], ascending=True).head(7)"
   ]
  },
  {
   "attachments": {},
   "cell_type": "markdown",
   "metadata": {},
   "source": [
    "## Ranking by Compound Sentiment\n",
    "However, when we rank order by compound sentiment, we see completely different books that might have a lower rating, but have much more positive reviews in the text, which might a truer sense of what books consumers would like."
   ]
  },
  {
   "cell_type": "code",
   "execution_count": 79,
   "metadata": {},
   "outputs": [
    {
     "data": {
      "text/html": [
       "<div>\n",
       "<style scoped>\n",
       "    .dataframe tbody tr th:only-of-type {\n",
       "        vertical-align: middle;\n",
       "    }\n",
       "\n",
       "    .dataframe tbody tr th {\n",
       "        vertical-align: top;\n",
       "    }\n",
       "\n",
       "    .dataframe thead th {\n",
       "        text-align: right;\n",
       "    }\n",
       "</style>\n",
       "<table border=\"1\" class=\"dataframe\">\n",
       "  <thead>\n",
       "    <tr style=\"text-align: right;\">\n",
       "      <th></th>\n",
       "      <th>title</th>\n",
       "      <th>compound_sentiment_ranking</th>\n",
       "      <th>rating_ranking</th>\n",
       "      <th>url</th>\n",
       "    </tr>\n",
       "  </thead>\n",
       "  <tbody>\n",
       "    <tr>\n",
       "      <th>48</th>\n",
       "      <td>Farornas väg</td>\n",
       "      <td>1.0</td>\n",
       "      <td>99.5</td>\n",
       "      <td>https://www.bookbeat.se/bok/farornas-vag-19802</td>\n",
       "    </tr>\n",
       "    <tr>\n",
       "      <th>64</th>\n",
       "      <td>Glassvärdet</td>\n",
       "      <td>2.0</td>\n",
       "      <td>119.5</td>\n",
       "      <td>https://www.bookbeat.se/bok/glassvardet-208692</td>\n",
       "    </tr>\n",
       "    <tr>\n",
       "      <th>16</th>\n",
       "      <td>Ringens brödraskap</td>\n",
       "      <td>3.0</td>\n",
       "      <td>40.0</td>\n",
       "      <td>https://www.bookbeat.se/bok/ringens-brodraskap...</td>\n",
       "    </tr>\n",
       "    <tr>\n",
       "      <th>114</th>\n",
       "      <td>Before They Are Hanged</td>\n",
       "      <td>4.5</td>\n",
       "      <td>40.0</td>\n",
       "      <td>https://www.bookbeat.se/bok/before-they-are-ha...</td>\n",
       "    </tr>\n",
       "    <tr>\n",
       "      <th>95</th>\n",
       "      <td>Maze runner - I vansinnets öken</td>\n",
       "      <td>4.5</td>\n",
       "      <td>119.5</td>\n",
       "      <td>https://www.bookbeat.se/bok/maze-runner-i-vans...</td>\n",
       "    </tr>\n",
       "    <tr>\n",
       "      <th>22</th>\n",
       "      <td>Twilight - Om jag kunde drömma</td>\n",
       "      <td>6.0</td>\n",
       "      <td>62.5</td>\n",
       "      <td>https://www.bookbeat.se/bok/twilight-om-jag-ku...</td>\n",
       "    </tr>\n",
       "    <tr>\n",
       "      <th>32</th>\n",
       "      <td>Twilight 3 - Ljudet av ditt hjärta</td>\n",
       "      <td>7.5</td>\n",
       "      <td>62.5</td>\n",
       "      <td>https://www.bookbeat.se/bok/twilight-3-ljudet-...</td>\n",
       "    </tr>\n",
       "  </tbody>\n",
       "</table>\n",
       "</div>"
      ],
      "text/plain": [
       "                                  title  compound_sentiment_ranking   \n",
       "48                         Farornas väg                         1.0  \\\n",
       "64                          Glassvärdet                         2.0   \n",
       "16                   Ringens brödraskap                         3.0   \n",
       "114              Before They Are Hanged                         4.5   \n",
       "95      Maze runner - I vansinnets öken                         4.5   \n",
       "22       Twilight - Om jag kunde drömma                         6.0   \n",
       "32   Twilight 3 - Ljudet av ditt hjärta                         7.5   \n",
       "\n",
       "     rating_ranking                                                url  \n",
       "48             99.5     https://www.bookbeat.se/bok/farornas-vag-19802  \n",
       "64            119.5     https://www.bookbeat.se/bok/glassvardet-208692  \n",
       "16             40.0  https://www.bookbeat.se/bok/ringens-brodraskap...  \n",
       "114            40.0  https://www.bookbeat.se/bok/before-they-are-ha...  \n",
       "95            119.5  https://www.bookbeat.se/bok/maze-runner-i-vans...  \n",
       "22             62.5  https://www.bookbeat.se/bok/twilight-om-jag-ku...  \n",
       "32             62.5  https://www.bookbeat.se/bok/twilight-3-ljudet-...  "
      ]
     },
     "execution_count": 79,
     "metadata": {},
     "output_type": "execute_result"
    }
   ],
   "source": [
    "rankings.sort_values(by=['compound_sentiment_ranking', 'rating_ranking'], ascending=True).head(7)"
   ]
  },
  {
   "cell_type": "code",
   "execution_count": 81,
   "metadata": {},
   "outputs": [
    {
     "data": {
      "text/plain": [
       "title                                                           Farornas väg\n",
       "compound_sentiment_ranking                                               1.0\n",
       "rating_ranking                                                          99.5\n",
       "url                           https://www.bookbeat.se/bok/farornas-vag-19802\n",
       "Name: 48, dtype: object"
      ]
     },
     "execution_count": 81,
     "metadata": {},
     "output_type": "execute_result"
    }
   ],
   "source": [
    "# Looking at the first book for compound sentiment.\n",
    "rankings.iloc[48]"
   ]
  }
 ],
 "metadata": {
  "kernelspec": {
   "display_name": "Python 3",
   "language": "python",
   "name": "python3"
  },
  "language_info": {
   "codemirror_mode": {
    "name": "ipython",
    "version": 3
   },
   "file_extension": ".py",
   "mimetype": "text/x-python",
   "name": "python",
   "nbconvert_exporter": "python",
   "pygments_lexer": "ipython3",
   "version": "3.11.3"
  },
  "orig_nbformat": 4
 },
 "nbformat": 4,
 "nbformat_minor": 2
}
